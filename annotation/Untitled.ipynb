{
 "cells": [
  {
   "cell_type": "code",
   "execution_count": 1,
   "id": "6f58fdbb",
   "metadata": {},
   "outputs": [],
   "source": [
    "import json"
   ]
  },
  {
   "cell_type": "code",
   "execution_count": 1,
   "id": "b270aaa7",
   "metadata": {},
   "outputs": [],
   "source": [
    "import json\n",
    " \n",
    "# Opening JSON file\n",
    "f = open('IPN_google.json')\n",
    " \n",
    "# returns JSON object as\n",
    "# a dictionary\n",
    "data = json.load(f)\n",
    " \n",
    "# Iterating through the json\n",
    "# list\n",
    "\n",
    " \n",
    "# Closing file\n",
    "f.close()"
   ]
  },
  {
   "cell_type": "code",
   "execution_count": 2,
   "id": "372c8c09",
   "metadata": {},
   "outputs": [],
   "source": [
    "labels = data['labels']"
   ]
  },
  {
   "cell_type": "code",
   "execution_count": 3,
   "id": "dfa0a228",
   "metadata": {},
   "outputs": [],
   "source": [
    "dataset = data['database']"
   ]
  },
  {
   "cell_type": "code",
   "execution_count": 4,
   "id": "685a5bf1",
   "metadata": {},
   "outputs": [],
   "source": [
    "training= {}\n",
    "validation = {}\n",
    "for x in labels:\n",
    "    training[x] = 0\n",
    "for x in labels:\n",
    "    validation[x] = 0\n",
    "    \n",
    "maximum=148\n",
    "\n",
    "new_data={}\n",
    "new_data['labels'] = data['labels']"
   ]
  },
  {
   "cell_type": "code",
   "execution_count": 5,
   "id": "394b70d2",
   "metadata": {},
   "outputs": [],
   "source": [
    "new_data['database'] = {}"
   ]
  },
  {
   "cell_type": "code",
   "execution_count": 6,
   "id": "38e72d34",
   "metadata": {},
   "outputs": [
    {
     "data": {
      "text/plain": [
       "{'labels': ['B0A',\n",
       "  'B0B',\n",
       "  'G01',\n",
       "  'G02',\n",
       "  'G03',\n",
       "  'G04',\n",
       "  'G05',\n",
       "  'G06',\n",
       "  'G07',\n",
       "  'G08',\n",
       "  'G09',\n",
       "  'G10',\n",
       "  'G11'],\n",
       " 'database': {}}"
      ]
     },
     "execution_count": 6,
     "metadata": {},
     "output_type": "execute_result"
    }
   ],
   "source": [
    "new_data"
   ]
  },
  {
   "cell_type": "code",
   "execution_count": 7,
   "id": "ad7a23b4",
   "metadata": {},
   "outputs": [],
   "source": [
    "training_subset = {}\n",
    "labels\n",
    "for x in labels:\n",
    "    training_subset[x] = []\n",
    "\n"
   ]
  },
  {
   "cell_type": "code",
   "execution_count": 8,
   "id": "54f3a7b6",
   "metadata": {},
   "outputs": [
    {
     "ename": "KeyError",
     "evalue": "'frames/1CM1_4_R_#229'",
     "output_type": "error",
     "traceback": [
      "\u001b[0;31m---------------------------------------------------------------------------\u001b[0m",
      "\u001b[0;31mKeyError\u001b[0m                                  Traceback (most recent call last)",
      "\u001b[0;32m/var/folders/xj/rqgxzn613fv23mnbfg8x6z4h0000gn/T/ipykernel_95387/84708489.py\u001b[0m in \u001b[0;36m<module>\u001b[0;34m\u001b[0m\n\u001b[1;32m      2\u001b[0m     \u001b[0;32mif\u001b[0m \u001b[0mdataset\u001b[0m\u001b[0;34m[\u001b[0m\u001b[0mx\u001b[0m\u001b[0;34m]\u001b[0m\u001b[0;34m[\u001b[0m\u001b[0;34m'subset'\u001b[0m\u001b[0;34m]\u001b[0m \u001b[0;34m==\u001b[0m \u001b[0;34m'training'\u001b[0m\u001b[0;34m:\u001b[0m\u001b[0;34m\u001b[0m\u001b[0;34m\u001b[0m\u001b[0m\n\u001b[1;32m      3\u001b[0m         \u001b[0mtraining\u001b[0m\u001b[0;34m[\u001b[0m\u001b[0mdataset\u001b[0m\u001b[0;34m[\u001b[0m\u001b[0mx\u001b[0m\u001b[0;34m]\u001b[0m\u001b[0;34m[\u001b[0m\u001b[0;34m'annotations'\u001b[0m\u001b[0;34m]\u001b[0m\u001b[0;34m[\u001b[0m\u001b[0;34m'label'\u001b[0m\u001b[0;34m]\u001b[0m\u001b[0;34m]\u001b[0m \u001b[0;34m+=\u001b[0m \u001b[0;36m1\u001b[0m\u001b[0;34m\u001b[0m\u001b[0;34m\u001b[0m\u001b[0m\n\u001b[0;32m----> 4\u001b[0;31m         \u001b[0mtraining_subset\u001b[0m\u001b[0;34m[\u001b[0m\u001b[0mx\u001b[0m\u001b[0;34m]\u001b[0m\u001b[0;34m.\u001b[0m\u001b[0mappend\u001b[0m\u001b[0;34m(\u001b[0m\u001b[0mdataset\u001b[0m\u001b[0;34m[\u001b[0m\u001b[0mx\u001b[0m\u001b[0;34m]\u001b[0m\u001b[0;34m)\u001b[0m\u001b[0;34m\u001b[0m\u001b[0;34m\u001b[0m\u001b[0m\n\u001b[0m\u001b[1;32m      5\u001b[0m         \u001b[0;32mif\u001b[0m \u001b[0mtraining\u001b[0m\u001b[0;34m[\u001b[0m\u001b[0mdataset\u001b[0m\u001b[0;34m[\u001b[0m\u001b[0mx\u001b[0m\u001b[0;34m]\u001b[0m\u001b[0;34m[\u001b[0m\u001b[0;34m'annotations'\u001b[0m\u001b[0;34m]\u001b[0m\u001b[0;34m[\u001b[0m\u001b[0;34m'label'\u001b[0m\u001b[0;34m]\u001b[0m\u001b[0;34m]\u001b[0m \u001b[0;34m<=\u001b[0m\u001b[0;36m148\u001b[0m\u001b[0;34m:\u001b[0m\u001b[0;34m\u001b[0m\u001b[0;34m\u001b[0m\u001b[0m\n\u001b[1;32m      6\u001b[0m             \u001b[0mnew_data\u001b[0m\u001b[0;34m[\u001b[0m\u001b[0;34m'database'\u001b[0m\u001b[0;34m]\u001b[0m\u001b[0;34m[\u001b[0m\u001b[0mx\u001b[0m\u001b[0;34m]\u001b[0m \u001b[0;34m=\u001b[0m \u001b[0mdataset\u001b[0m\u001b[0;34m[\u001b[0m\u001b[0mx\u001b[0m\u001b[0;34m]\u001b[0m\u001b[0;34m\u001b[0m\u001b[0;34m\u001b[0m\u001b[0m\n",
      "\u001b[0;31mKeyError\u001b[0m: 'frames/1CM1_4_R_#229'"
     ]
    }
   ],
   "source": [
    "for x in dataset:\n",
    "    if dataset[x]['subset'] == 'training':\n",
    "        training[dataset[x]['annotations']['label']] += 1 \n",
    "        training_subset[x].append(dataset[x])\n",
    "        if training[dataset[x]['annotations']['label']] <=148:\n",
    "            new_data['database'][x] = dataset[x]\n",
    "            \n",
    "    else:\n",
    "        validation[dataset[x]['annotations']['label']] += 1 \n",
    "        if validation[dataset[x]['annotations']['label']] <=52:\n",
    "            new_data['database'][x] = dataset[x]\n",
    "            \n",
    "        "
   ]
  },
  {
   "cell_type": "code",
   "execution_count": 38,
   "id": "8b085451",
   "metadata": {},
   "outputs": [],
   "source": [
    "import json\n",
    "with open('data.json', 'w') as f:\n",
    "    json.dump(new_data, f)"
   ]
  },
  {
   "cell_type": "code",
   "execution_count": 42,
   "id": "c305671b",
   "metadata": {},
   "outputs": [
    {
     "data": {
      "text/plain": [
       "{'B0A': 745,\n",
       " 'B0B': 743,\n",
       " 'G01': 148,\n",
       " 'G02': 148,\n",
       " 'G03': 148,\n",
       " 'G04': 149,\n",
       " 'G05': 148,\n",
       " 'G06': 148,\n",
       " 'G07': 148,\n",
       " 'G08': 148,\n",
       " 'G09': 148,\n",
       " 'G10': 148,\n",
       " 'G11': 148}"
      ]
     },
     "execution_count": 42,
     "metadata": {},
     "output_type": "execute_result"
    }
   ],
   "source": [
    "training"
   ]
  },
  {
   "cell_type": "code",
   "execution_count": null,
   "id": "ef1a355c",
   "metadata": {},
   "outputs": [],
   "source": []
  }
 ],
 "metadata": {
  "kernelspec": {
   "display_name": "Python 3 (ipykernel)",
   "language": "python",
   "name": "python3"
  },
  "language_info": {
   "codemirror_mode": {
    "name": "ipython",
    "version": 3
   },
   "file_extension": ".py",
   "mimetype": "text/x-python",
   "name": "python",
   "nbconvert_exporter": "python",
   "pygments_lexer": "ipython3",
   "version": "3.8.8"
  }
 },
 "nbformat": 4,
 "nbformat_minor": 5
}
